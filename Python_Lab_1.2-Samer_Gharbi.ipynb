{
 "cells": [
  {
   "cell_type": "markdown",
   "metadata": {},
   "source": [
    "# Python_Lab_1.2"
   ]
  },
  {
   "cell_type": "markdown",
   "metadata": {},
   "source": [
    "### Task 1: \n",
    "1. Create a tuple with the following details:\n",
    "    - Your favorite movie (string)\n",
    "    - The year it was released (integer)\n",
    "    - Its rating out of 10 (float)\n",
    "    - Whether you have watched it (boolean)\n",
    "2. Print the detailes"
   ]
  },
  {
   "cell_type": "code",
   "execution_count": 41,
   "metadata": {},
   "outputs": [
    {
     "name": "stdout",
     "output_type": "stream",
     "text": [
      "Your favorite movie ? interstellar \n",
      " The year it was released ? 2014 \n",
      " Its rating out of 10 ? 9.99 \n",
      " Whether you have watched it True\n"
     ]
    }
   ],
   "source": [
    "Movie = ( \"interstellar\" , 2014 , 9.99 , True )\n",
    "\n",
    "print(\"Your favorite movie ? \" + str(myFavoriteMovie) + \" \\n The year it was released ? \" + str(releasedYear) + \" \\n Its rating out of 10 ? \" + str(movieRate) + \" \\n Whether you have watched it \" + str(haveIwatched)) "
   ]
  },
  {
   "cell_type": "markdown",
   "metadata": {},
   "source": [
    "### Task 2:\n",
    "1. Create a set of 5 favorite colors.\n",
    "2. Print all the colors"
   ]
  },
  {
   "cell_type": "code",
   "execution_count": 23,
   "metadata": {},
   "outputs": [
    {
     "name": "stdout",
     "output_type": "stream",
     "text": [
      "Red\n",
      "White\n",
      "Blue\n",
      "Grey\n",
      "Black\n"
     ]
    }
   ],
   "source": [
    "myColors = {\"Red\" , \"Grey\" , \"Blue\" , \"Black\" , \"White\"} \n",
    "for x in myColors :\n",
    "    print(x)"
   ]
  },
  {
   "cell_type": "markdown",
   "metadata": {},
   "source": [
    "### Task 3:\n",
    "1. Create a dictionary to store information about 3 friends (name as key and a tuple with age and favorite hobby as value).\n",
    "2. Print the details of all friends."
   ]
  },
  {
   "cell_type": "code",
   "execution_count": 33,
   "metadata": {},
   "outputs": [
    {
     "name": "stdout",
     "output_type": "stream",
     "text": [
      "Majid ('23', 'Singing')\n",
      "Yousef ('23', 'Swimming')\n",
      "Mohammed ('23', 'Programming')\n"
     ]
    }
   ],
   "source": [
    "myFriends = {\"Majid\" : (\"23\" , \"Singing\") ,\n",
    "             \"Yousef\" : (\"23\" , \"Swimming\") ,\n",
    "             \"Mohammed\" : (\"23\" , \"Programming\")\n",
    "            }\n",
    "for x , y in myFriends.items() :\n",
    "    print(x , y)"
   ]
  },
  {
   "cell_type": "markdown",
   "metadata": {},
   "source": [
    "### Task 4:\n",
    "1. Check if you have watched the movie and print an appropriate message.\n",
    "1. Check if a specific color is in your favorite colors set and print its availability status."
   ]
  },
  {
   "cell_type": "code",
   "execution_count": 39,
   "metadata": {},
   "outputs": [
    {
     "name": "stdout",
     "output_type": "stream",
     "text": [
      " I hope you enjoed in the movie <3 \n",
      "True\n"
     ]
    }
   ],
   "source": [
    "myColors = {\"Red\" , \"Grey\" , \"Blue\" , \"Black\" , \"White\"} \n",
    "haveIwatched = True \n",
    "\n",
    "if haveIwatched == True :\n",
    "    print(\"I hope you enjoed in the movie <3\")\n",
    "\n",
    "else :\n",
    "    print(\" You disappoint me \")\n",
    "\n",
    "print(\"Grey\" in myColors )"
   ]
  }
 ],
 "metadata": {
  "kernelspec": {
   "display_name": "Python 3 (ipykernel)",
   "language": "python",
   "name": "python3"
  },
  "language_info": {
   "codemirror_mode": {
    "name": "ipython",
    "version": 3
   },
   "file_extension": ".py",
   "mimetype": "text/x-python",
   "name": "python",
   "nbconvert_exporter": "python",
   "pygments_lexer": "ipython3",
   "version": "3.12.4"
  }
 },
 "nbformat": 4,
 "nbformat_minor": 4
}
