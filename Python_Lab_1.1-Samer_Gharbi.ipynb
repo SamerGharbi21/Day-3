{
 "cells": [
  {
   "cell_type": "markdown",
   "metadata": {},
   "source": [
    "# Python_Lab_1.1\n"
   ]
  },
  {
   "cell_type": "markdown",
   "metadata": {},
   "source": [
    "### Task 1\n",
    "1. Print a welcome message.\n",
    "2. Create variables to store the following details:\n",
    "    - Your name (string)\n",
    "    - Your age (integer)\n",
    "    - Your height (float)\n",
    "    - Whether you are a student (boolean)\n",
    "3. Print these details.\n"
   ]
  },
  {
   "cell_type": "code",
   "execution_count": 41,
   "metadata": {},
   "outputs": [
    {
     "name": "stdout",
     "output_type": "stream",
     "text": [
      " Welcome to my web \n",
      " my name is : Samer Gharbi\n",
      " I am : 23 years old \n",
      " My Height is : 1.68m\n",
      " am I  Student ? : True\n",
      "------------------------------------------------------\n"
     ]
    }
   ],
   "source": [
    "print(\" Welcome to my web \") \n",
    "\n",
    "myName = \"Samer Gharbi\" \n",
    "myAge = 23 \n",
    "myHeight = 1.68 \n",
    "Student = True \n",
    "\n",
    "print(\" my name is : \" + myName + \"\\n I am : \" + str(myAge) + \" years old \" + \"\\n My Height is : \" + str(myHeight) + \"m\" + \"\\n am I  Student ? : \" + str(Student))\n",
    "print(\"------------------------------------------------------\")"
   ]
  },
  {
   "cell_type": "markdown",
   "metadata": {},
   "source": [
    "### Task 2\n",
    " 1. Create a list of 5 favorite fruits.\n",
    " 2. Create a list with the price of each fruit.\n",
    " 3. Print the data types of these lists."
   ]
  },
  {
   "cell_type": "code",
   "execution_count": 53,
   "metadata": {},
   "outputs": [
    {
     "name": "stdout",
     "output_type": "stream",
     "text": [
      "<class 'list'>\n",
      "<class 'list'>\n",
      "----------------------------------\n"
     ]
    }
   ],
   "source": [
    "fruits = [\"Orrange\" , \"Apple\" , \"Banana\" , \"Grape\" , \"Cherry\"] \n",
    "fruitsPrice = [\"7$\" , \"12$\" , \"5$\" , \"17$\" , \"10$\"]\n",
    "print(type(fruitsPrice))\n",
    "print(type(fruits))\n",
    "print(\"----------------------------------\")"
   ]
  },
  {
   "cell_type": "markdown",
   "metadata": {},
   "source": [
    "### Task 3\n",
    "1. Print the names of all fruits using a loop.\n",
    "2. Using a while loop and input built-in function, do the following:\n",
    "    - Ask the the user : \"what is the product of 7 * 24 ?\"\n",
    "    - check if the answer is right then exit the loop and print \"You answered this Question correctly\".\n",
    "    - if the answer is wrong, then print \"Your Answer is wrong try again..\" and show the user the question again.\n",
    "3. Build a program that takes one defined variable of type int, then it prints out the result formatted like the following pattern (if we give it 5 for example):\n",
    "\n",
    "    5 4 3 2 1\n",
    "\n",
    "    4 3 2 1\n",
    "\n",
    "    3 2 1\n",
    "\n",
    "    2 1\n",
    "    \n",
    "    1"
   ]
  },
  {
   "cell_type": "code",
   "execution_count": 187,
   "metadata": {},
   "outputs": [
    {
     "name": "stdout",
     "output_type": "stream",
     "text": [
      "Orrange\n",
      "Apple\n",
      "Banana\n",
      "Grape\n",
      "Cherry\n"
     ]
    },
    {
     "name": "stdin",
     "output_type": "stream",
     "text": [
      "what is the product of 7 * 24 ? 15\n"
     ]
    },
    {
     "name": "stdout",
     "output_type": "stream",
     "text": [
      "Your Answer is wrong try again..\n"
     ]
    },
    {
     "name": "stdin",
     "output_type": "stream",
     "text": [
      "what is the product of 7 * 24 ? 15\n"
     ]
    },
    {
     "name": "stdout",
     "output_type": "stream",
     "text": [
      "Your Answer is wrong try again..\n"
     ]
    },
    {
     "name": "stdin",
     "output_type": "stream",
     "text": [
      "what is the product of 7 * 24 ? 168\n"
     ]
    },
    {
     "name": "stdout",
     "output_type": "stream",
     "text": [
      "You answered this Question correctly\n"
     ]
    }
   ],
   "source": [
    "fruits = [\"Orrange\" , \"Apple\" , \"Banana\" , \"Grape\" , \"Cherry\"] \n",
    "\n",
    "for x in fruits:\n",
    "    print(x)\n",
    "\n",
    "while True:\n",
    "    i = int(input(\"what is the product of 7 * 24 ?\"))\n",
    "    if i == 168:\n",
    "        print(\"You answered this Question correctly\")\n",
    "        break\n",
    "    else:\n",
    "        print(\"Your Answer is wrong try again..\")\n",
    "\n",
    "\n",
    "\n",
    "     "
   ]
  },
  {
   "cell_type": "markdown",
   "metadata": {},
   "source": [
    "### Task 4\n",
    "You want to recommend a movie to a friend based on the rating and popularity. To accomplish this do the following:\n",
    "\n",
    "- Create a variable for the movie (choose any movie you like).\n",
    "- Create a variable of type int to hold the rating of the movie out of 5. Give this movie rate = 3\n",
    "- Create a popularity score of type float, let it be 72.65\n",
    "- Using an if statement:\n",
    "    - Check if the movie rating is 4 or greater and the popularity is greater than 80, print \"Highly recommended\".\n",
    "    - Else if the movie rating is 3 or greater and the popularity is greater than 70, print \"I recommended it, It is good\".\n",
    "    - Else if the movie rating is 2 or less and the popularity is greater than 60, print \"You should check it out!\".\n",
    "    - Else the movie rating is 2 or less and the popularity is less than 50, print \"Don't watch it, It is a waste of time\"."
   ]
  },
  {
   "cell_type": "code",
   "execution_count": 185,
   "metadata": {},
   "outputs": [
    {
     "name": "stdout",
     "output_type": "stream",
     "text": [
      "I recommended it, It is good\n"
     ]
    }
   ],
   "source": [
    "myMovie = \"Fast 8\"\n",
    "movieRate = 3 \n",
    "popularityScore = 72.65 \n",
    "\n",
    "if movieRate >= 4 and popularityScore > 80 :\n",
    "    print(\"Highly recommended\") \n",
    "elif movieRate >= 3 and popularityScore > 70 :\n",
    "    print(\"I recommended it, It is good\") \n",
    "elif movieRate <= 2 and popularityScore > 60 :\n",
    "    print(\"You should check it out!\")\n",
    "elif movieRate <= 2 and popularityScore > 50 :\n",
    "        print(\"Don't watch it, It is a waste of time\")\n"
   ]
  },
  {
   "cell_type": "code",
   "execution_count": null,
   "metadata": {},
   "outputs": [],
   "source": []
  }
 ],
 "metadata": {
  "kernelspec": {
   "display_name": "Python 3 (ipykernel)",
   "language": "python",
   "name": "python3"
  },
  "language_info": {
   "codemirror_mode": {
    "name": "ipython",
    "version": 3
   },
   "file_extension": ".py",
   "mimetype": "text/x-python",
   "name": "python",
   "nbconvert_exporter": "python",
   "pygments_lexer": "ipython3",
   "version": "3.12.4"
  }
 },
 "nbformat": 4,
 "nbformat_minor": 4
}
